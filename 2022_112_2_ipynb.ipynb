{
  "nbformat": 4,
  "nbformat_minor": 0,
  "metadata": {
    "colab": {
      "provenance": [],
      "authorship_tag": "ABX9TyPlQMzRTCt6DWyOPfnElFbN",
      "include_colab_link": true
    },
    "kernelspec": {
      "name": "python3",
      "display_name": "Python 3"
    },
    "language_info": {
      "name": "python"
    }
  },
  "cells": [
    {
      "cell_type": "markdown",
      "metadata": {
        "id": "view-in-github",
        "colab_type": "text"
      },
      "source": [
        "<a href=\"https://colab.research.google.com/github/HajimeFuji/HAJIME-FUJII-STUDIO/blob/main/2022_112_2_ipynb.ipynb\" target=\"_parent\"><img src=\"https://colab.research.google.com/assets/colab-badge.svg\" alt=\"Open In Colab\"/></a>"
      ]
    },
    {
      "cell_type": "code",
      "execution_count": null,
      "metadata": {
        "colab": {
          "base_uri": "https://localhost:8080/"
        },
        "id": "KZ0JPS2ZN_yR",
        "outputId": "81570fed-b851-4f9f-cc50-e021891777e5"
      },
      "outputs": [
        {
          "output_type": "stream",
          "name": "stdout",
          "text": [
            "Hello World\n"
          ]
        }
      ],
      "source": [
        "print('Hello World')"
      ]
    },
    {
      "cell_type": "code",
      "source": [
        "!pip install selenium\n",
        "!apt-get update\n",
        "!apt install chromium-chromedriver\n",
        "!cp /usr/lib/chromium-browser/chromedriver/usr/bin"
      ],
      "metadata": {
        "id": "87_xqVsJOgm1"
      },
      "execution_count": null,
      "outputs": []
    },
    {
      "cell_type": "code",
      "source": [
        "from selenium import webdriver\n",
        "from selenium.webdriver.common.by import By\n",
        "# pythonによる情報取得でよく使われるライブラリBeautiful soup\n",
        "from bs4 import BeautifulSoup\n",
        "import time"
      ],
      "metadata": {
        "id": "6KfR0E1pS8AU"
      },
      "execution_count": null,
      "outputs": []
    },
    {
      "cell_type": "code",
      "source": [
        "html = \"<body><h1>スクレイピング</h1></body>\"\n",
        "soup = BeautifulSoup(html,\"html.parser\")\n",
        "print(soup.h1.text)"
      ],
      "metadata": {
        "id": "TfHNMXCQUdt9"
      },
      "execution_count": null,
      "outputs": []
    },
    {
      "cell_type": "code",
      "source": [
        "#Google Colab 特有の設定\n",
        "options = webdriver.ChromeOptions()\n",
        "\n",
        "#Brower をHeadlessモード\n",
        "options.add_argument('--headless')\n",
        "\n",
        "#サンドボックスの解除\n",
        "options.add_argument('--no-sandbox')\n",
        "\n",
        "options.add_argument('--disable-dev-shm-usage')"
      ],
      "metadata": {
        "id": "_cT2_YAcaJQL"
      },
      "execution_count": null,
      "outputs": []
    },
    {
      "cell_type": "code",
      "source": [
        "# サイトから情報取得\n",
        "\n",
        "# インスタンス化\n",
        "driver = webdriver.Chrome('chromedriver',options=options)\n",
        "\n",
        "# ドライバーを探す時間を確保\n",
        "driver.implicitly_wait(10)\n",
        "\n",
        "# 取得するページのURL指定\n",
        "url=\"https://club-tullys.jp/login\"\n",
        "\n",
        "driver.get(url)\n",
        "time.sleep(3)\n",
        "\n",
        "print(driver.title)"
      ],
      "metadata": {
        "id": "Dko3NGpccl3U"
      },
      "execution_count": null,
      "outputs": []
    },
    {
      "cell_type": "code",
      "source": [
        "login = \"fujiihyrk@gmail.com\"\n",
        "password = \"fujkan1120\"\n",
        "\n",
        "# user name自動入力\n",
        "driver.find_element(By.XPATH,\"//*[@id='contentForm']/form/table/tbody/tr[1]/td/input\").send_keys(login)\n",
        "driver.find_element(By.XPATH,\"//*[@id='contentForm']/form/table/tbody/tr[2]/td/input\").send_keys(password)\n",
        "\n",
        "#ログインボタンを押す\n",
        "driver.find_element(By.XPATH,\"//*[@id='contentFormBtn']\").click()\n",
        "time.sleep(5)\n",
        "\n",
        "#見えるようにする\n"
      ],
      "metadata": {
        "id": "8odRdQ10shxc"
      },
      "execution_count": null,
      "outputs": []
    },
    {
      "cell_type": "code",
      "source": [
        "html= driver.page_source\n",
        "soup = BeautifulSoup(html,\"lxml\")\n",
        "content = soup.select('#contentInfo02')\n",
        "login_user = soup.select('.msg')\n",
        "copyright = soup.select('#Copyright')\n",
        "print(copyright)"
      ],
      "metadata": {
        "id": "0Hmk-7A5pRGK"
      },
      "execution_count": null,
      "outputs": []
    },
    {
      "cell_type": "code",
      "source": [
        "#CSVへの書き出し\n",
        "# CSVモジュールのインポート\n",
        "import csv"
      ],
      "metadata": {
        "id": "yOAbakNG4Ma3"
      },
      "execution_count": null,
      "outputs": []
    },
    {
      "cell_type": "markdown",
      "source": [],
      "metadata": {
        "id": "z0xMEtyDAWaw"
      }
    },
    {
      "cell_type": "code",
      "source": [
        "data = [copyright,content]\n",
        "f = open('out.csv','w')\n",
        "writer = csv.writer(f)\n",
        "\n",
        "writer.writerow(data)\n",
        "f.close()"
      ],
      "metadata": {
        "id": "8teFbovu4c-k"
      },
      "execution_count": null,
      "outputs": []
    }
  ]
}