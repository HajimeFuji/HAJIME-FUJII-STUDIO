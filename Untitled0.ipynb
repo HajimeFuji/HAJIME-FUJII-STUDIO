{
  "nbformat": 4,
  "nbformat_minor": 0,
  "metadata": {
    "colab": {
      "provenance": [],
      "authorship_tag": "ABX9TyPduI8M5ryWxFqKiztKvkiP",
      "include_colab_link": true
    },
    "kernelspec": {
      "name": "python3",
      "display_name": "Python 3"
    },
    "language_info": {
      "name": "python"
    }
  },
  "cells": [
    {
      "cell_type": "markdown",
      "metadata": {
        "id": "view-in-github",
        "colab_type": "text"
      },
      "source": [
        "<a href=\"https://colab.research.google.com/github/HajimeFuji/HAJIME-FUJII-STUDIO/blob/main/Untitled0.ipynb\" target=\"_parent\"><img src=\"https://colab.research.google.com/assets/colab-badge.svg\" alt=\"Open In Colab\"/></a>"
      ]
    },
    {
      "cell_type": "code",
      "execution_count": 1,
      "metadata": {
        "colab": {
          "base_uri": "https://localhost:8080/"
        },
        "id": "KZ0JPS2ZN_yR",
        "outputId": "81570fed-b851-4f9f-cc50-e021891777e5"
      },
      "outputs": [
        {
          "output_type": "stream",
          "name": "stdout",
          "text": [
            "Hello World\n"
          ]
        }
      ],
      "source": [
        "print('Hello World')"
      ]
    },
    {
      "cell_type": "code",
      "source": [
        "!pip install selenium\n",
        "!apt-get update\n",
        "!apt install chromium-chromedriver\n",
        "!cp /usr/lib/chromium-browser/chromedriver/usr/bin"
      ],
      "metadata": {
        "colab": {
          "base_uri": "https://localhost:8080/"
        },
        "id": "87_xqVsJOgm1",
        "outputId": "83448601-c79a-4f91-d103-a220989fa255"
      },
      "execution_count": 3,
      "outputs": [
        {
          "output_type": "stream",
          "name": "stdout",
          "text": [
            "Looking in indexes: https://pypi.org/simple, https://us-python.pkg.dev/colab-wheels/public/simple/\n",
            "Requirement already satisfied: selenium in /usr/local/lib/python3.8/dist-packages (4.7.2)\n",
            "Requirement already satisfied: trio~=0.17 in /usr/local/lib/python3.8/dist-packages (from selenium) (0.22.0)\n",
            "Requirement already satisfied: trio-websocket~=0.9 in /usr/local/lib/python3.8/dist-packages (from selenium) (0.9.2)\n",
            "Requirement already satisfied: certifi>=2021.10.8 in /usr/local/lib/python3.8/dist-packages (from selenium) (2022.9.24)\n",
            "Requirement already satisfied: urllib3[socks]~=1.26 in /usr/local/lib/python3.8/dist-packages (from selenium) (1.26.13)\n",
            "Requirement already satisfied: outcome in /usr/local/lib/python3.8/dist-packages (from trio~=0.17->selenium) (1.2.0)\n",
            "Requirement already satisfied: exceptiongroup>=1.0.0rc9 in /usr/local/lib/python3.8/dist-packages (from trio~=0.17->selenium) (1.0.4)\n",
            "Requirement already satisfied: async-generator>=1.9 in /usr/local/lib/python3.8/dist-packages (from trio~=0.17->selenium) (1.10)\n",
            "Requirement already satisfied: sniffio in /usr/local/lib/python3.8/dist-packages (from trio~=0.17->selenium) (1.3.0)\n",
            "Requirement already satisfied: attrs>=19.2.0 in /usr/local/lib/python3.8/dist-packages (from trio~=0.17->selenium) (22.1.0)\n",
            "Requirement already satisfied: idna in /usr/local/lib/python3.8/dist-packages (from trio~=0.17->selenium) (2.10)\n",
            "Requirement already satisfied: sortedcontainers in /usr/local/lib/python3.8/dist-packages (from trio~=0.17->selenium) (2.4.0)\n",
            "Requirement already satisfied: wsproto>=0.14 in /usr/local/lib/python3.8/dist-packages (from trio-websocket~=0.9->selenium) (1.2.0)\n",
            "Requirement already satisfied: PySocks!=1.5.7,<2.0,>=1.5.6 in /usr/local/lib/python3.8/dist-packages (from urllib3[socks]~=1.26->selenium) (1.7.1)\n",
            "Requirement already satisfied: h11<1,>=0.9.0 in /usr/local/lib/python3.8/dist-packages (from wsproto>=0.14->trio-websocket~=0.9->selenium) (0.14.0)\n",
            "Hit:1 https://cloud.r-project.org/bin/linux/ubuntu bionic-cran40/ InRelease\n",
            "Hit:2 http://archive.ubuntu.com/ubuntu bionic InRelease\n",
            "Ign:3 https://developer.download.nvidia.com/compute/machine-learning/repos/ubuntu1804/x86_64  InRelease\n",
            "Hit:4 https://developer.download.nvidia.com/compute/cuda/repos/ubuntu1804/x86_64  InRelease\n",
            "Hit:5 https://developer.download.nvidia.com/compute/machine-learning/repos/ubuntu1804/x86_64  Release\n",
            "Hit:6 http://archive.ubuntu.com/ubuntu bionic-updates InRelease\n",
            "Hit:7 http://security.ubuntu.com/ubuntu bionic-security InRelease\n",
            "Hit:8 http://archive.ubuntu.com/ubuntu bionic-backports InRelease\n",
            "Hit:9 http://ppa.launchpad.net/c2d4u.team/c2d4u4.0+/ubuntu bionic InRelease\n",
            "Hit:10 http://ppa.launchpad.net/cran/libgit2/ubuntu bionic InRelease\n",
            "Hit:11 http://ppa.launchpad.net/deadsnakes/ppa/ubuntu bionic InRelease\n",
            "Hit:12 http://ppa.launchpad.net/graphics-drivers/ppa/ubuntu bionic InRelease\n",
            "Reading package lists... Done\n",
            "Reading package lists... Done\n",
            "Building dependency tree       \n",
            "Reading state information... Done\n",
            "chromium-chromedriver is already the newest version (107.0.5304.87-0ubuntu11.18.04.1).\n",
            "The following package was automatically installed and is no longer required:\n",
            "  libnvidia-common-460\n",
            "Use 'apt autoremove' to remove it.\n",
            "0 upgraded, 0 newly installed, 0 to remove and 7 not upgraded.\n",
            "cp: missing destination file operand after '/usr/lib/chromium-browser/chromedriver/usr/bin'\n",
            "Try 'cp --help' for more information.\n"
          ]
        }
      ]
    },
    {
      "cell_type": "code",
      "source": [
        "from selenium import webdriver\n",
        "from selenium.webdriver.common.by import By\n",
        "# pythonによる情報取得でよく使われるライブラリBeautiful soup\n",
        "from bs4 import BeautifulSoup\n",
        "import time"
      ],
      "metadata": {
        "id": "6KfR0E1pS8AU"
      },
      "execution_count": 4,
      "outputs": []
    },
    {
      "cell_type": "code",
      "source": [
        "html = \"<body><h1>スクレイピング</h1></body>\"\n",
        "soup = BeautifulSoup(html,\"html.parser\")\n",
        "print(soup.h1.text)"
      ],
      "metadata": {
        "colab": {
          "base_uri": "https://localhost:8080/"
        },
        "id": "TfHNMXCQUdt9",
        "outputId": "002224f2-9b5b-426c-e912-c9c32f40ec62"
      },
      "execution_count": 7,
      "outputs": [
        {
          "output_type": "stream",
          "name": "stdout",
          "text": [
            "スクレイピング\n"
          ]
        }
      ]
    },
    {
      "cell_type": "code",
      "source": [
        "#Google Colab 特有の設定\n",
        "options = webdriver.ChromeOptions()\n",
        "\n",
        "#Brower をHeadlessモード\n",
        "options.add_argument('--headless')\n",
        "\n",
        "#サンドボックスの解除\n",
        "options.add_argument('--no-sandbox')\n",
        "\n",
        "options.add_argument('--disable-dev-shm-usage')"
      ],
      "metadata": {
        "id": "_cT2_YAcaJQL"
      },
      "execution_count": 9,
      "outputs": []
    },
    {
      "cell_type": "code",
      "source": [
        "# サイトから情報取得\n",
        "\n",
        "# インスタンス化\n",
        "driver = webdriver.Chrome('chromedriver',options=options)\n",
        "\n",
        "# ドライバーを探す時間を確保\n",
        "driver.implicitly_wait(10)\n",
        "\n",
        "# 取得するページのURL指定\n",
        "url=\"https://club-tullys.jp/login\"\n",
        "\n",
        "driver.get(url)\n",
        "time.sleep(3)\n",
        "\n",
        "print(driver.title)"
      ],
      "metadata": {
        "colab": {
          "base_uri": "https://localhost:8080/"
        },
        "id": "Dko3NGpccl3U",
        "outputId": "2fb8197b-ca90-40ef-8e5b-013727852f7b"
      },
      "execution_count": 23,
      "outputs": [
        {
          "output_type": "stream",
          "name": "stdout",
          "text": [
            "CLUB TULLY'S | TULLY'S COFFEE\n"
          ]
        }
      ]
    },
    {
      "cell_type": "code",
      "source": [
        "login = \"fujiihyrk@gmail.com\"\n",
        "password = \"fujkan1120\"\n",
        "\n",
        "# user name自動入力\n",
        "driver.find_element(By.XPATH,\"//*[@id='contentForm']/form/table/tbody/tr[1]/td/input\").send_keys(login)\n",
        "driver.find_element(By.XPATH,\"//*[@id='contentForm']/form/table/tbody/tr[2]/td/input\").send_keys(password)\n",
        "\n",
        "#ログインボタンを押す\n",
        "driver.find_element(By.XPATH,\"//*[@id='contentFormBtn']\").click()\n",
        "time.sleep(5)\n",
        "\n",
        "#見えるようにする\n"
      ],
      "metadata": {
        "id": "8odRdQ10shxc"
      },
      "execution_count": 24,
      "outputs": []
    },
    {
      "cell_type": "code",
      "source": [
        "html= driver.page_source\n",
        "soup = BeautifulSoup(html,\"lxml\")\n",
        "content = soup.select('#contentInfo02')\n",
        "print(content)"
      ],
      "metadata": {
        "colab": {
          "base_uri": "https://localhost:8080/"
        },
        "id": "0Hmk-7A5pRGK",
        "outputId": "a42c4b73-6b2c-473e-a937-d85c6ad81014"
      },
      "execution_count": 27,
      "outputs": [
        {
          "output_type": "stream",
          "name": "stdout",
          "text": [
            "[<div id=\"contentInfo02\">\n",
            "<p class=\"m_my_top_com\">タリーズカードをご登録いただくと、カード間の残高移行ができるようになります。<br/>「タリーズカード一覧へ」にアクセスするだけで、有効期限が延長されます。</p>\n",
            "<h2><img alt=\"タリーズカード一覧へ\" src=\"/images/content-title-mtop01.png\"/></h2>\n",
            "<h3>&lt;&lt; タリーズカード新規登録 &gt;&gt;</h3>\n",
            "<p class=\"m_my_top_com\">お持ちのタリーズカードを最大30枚までご登録いただけます。<br/>カード毎に残高が表示されるので、残高管理がとても便利です。</p>\n",
            "<h3>&lt;&lt; 残高移行 &gt;&gt;</h3>\n",
            "<p class=\"m_my_top_com\">登録したカード間の残高を1枚に統合することができます。<br/><span>（注）一度に移行できるのは、2枚ずつです。<br/>（注）カードの登録、残高移行には、カード裏面に記載されたPIN番号が必要です。</span></p>\n",
            "<h2><img alt=\"チケット一覧へ\" src=\"/images/content-title-mtop02.png\"/></h2>\n",
            "<p class=\"m_my_top_com\">年間を通して、CLUB TULLY’S 会員限定のキャンペーンを実施しています。<br/>抽選で電子ドリンクチケットやインビテーションチケット等が当たる企画にご応募いただいた場合、当選チケットがこちらに表示されます。</p>\n",
            "</div>]\n"
          ]
        }
      ]
    }
  ]
}